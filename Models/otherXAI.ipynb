{
 "cells": [
  {
   "cell_type": "code",
   "execution_count": 9,
   "id": "b03f59d5-43b2-4634-a082-0b4774a12244",
   "metadata": {},
   "outputs": [],
   "source": [
    "import torch\n",
    "import xarray as xr\n",
    "import numpy as np\n",
    "import matplotlib.pyplot as plt\n",
    "import copy\n",
    "import os"
   ]
  },
  {
   "cell_type": "code",
   "execution_count": 10,
   "id": "6c3b4dc3-0840-4511-9659-9a5e74ef1180",
   "metadata": {},
   "outputs": [],
   "source": [
    "def get_gradients(model, inputs, top_pred_idx=None):\n",
    "    \"\"\"\n",
    "    Computes the gradients of outputs w.r.t input image.\n",
    "\n",
    "    Args:\n",
    "        model: The neural network model.\n",
    "        inputs: 2D/3D/4D tensor of samples.\n",
    "        top_pred_idx: (optional) Predicted label for the inputs\n",
    "                      if classification problem. If regression,\n",
    "                      do not include.\n",
    "\n",
    "    Returns:\n",
    "        Gradients of the predictions w.r.t inputs.\n",
    "    \"\"\"\n",
    "    # Ensure inputs are of type float and require gradients\n",
    "    inputs = inputs.clone().detach().float()\n",
    "    inputs.requires_grad = True\n",
    "\n",
    "    # Forward pass\n",
    "    preds = model(inputs)\n",
    "\n",
    "    # For classification, grab the top class\n",
    "    if top_pred_idx is not None:\n",
    "        preds = preds[:, top_pred_idx]\n",
    "\n",
    "    # Backward pass to compute gradients\n",
    "    preds.backward(torch.ones_like(preds))\n",
    "\n",
    "    # Retrieve the gradients of the inputs\n",
    "    grads = inputs.grad\n",
    "    return grads\n",
    "\n",
    "\n",
    "def get_integrated_gradients(inputs, baseline=None, num_steps=50, top_pred_idx=None):\n",
    "    \"\"\"Computes Integrated Gradients for a prediction.\n",
    "\n",
    "    Args:\n",
    "        inputs (ndarray): 2D/3D/4D matrix of samples\n",
    "        baseline (ndarray): The baseline image to start with for interpolation\n",
    "        num_steps: Number of interpolation steps between the baseline\n",
    "            and the input used in the computation of integrated gradients. These\n",
    "            steps along determine the integral approximation error. By default,\n",
    "            num_steps is set to 50.\n",
    "        top_pred_idx: (optional) Predicted label for the x_data\n",
    "                      if classification problem. If regression,\n",
    "                      do not include.            \n",
    "\n",
    "    Returns:\n",
    "        Integrated gradients w.r.t input image\n",
    "    \"\"\"\n",
    "    # If baseline is not provided, start with zeros\n",
    "    # having same size as the input image.\n",
    "    if baseline is None:\n",
    "        input_size = np.shape(inputs)[1:]\n",
    "        baseline = torch.tensor(np.zeros(input_size).astype(np.float32)).to(device)\n",
    "    else:\n",
    "        baseline = torch.tensor(baseline.astype(np.float32)).to(device)\n",
    "\n",
    "    # 1. Do interpolation.\n",
    "    inputs = inputs.float()\n",
    "    interpolated_inputs = [\n",
    "        baseline + (step / num_steps) * (inputs - baseline)\n",
    "        for step in range(num_steps + 1)\n",
    "    ]\n",
    "    # interpolated_inputs = torch.tensor(interpolated_inputs)\n",
    "\n",
    "    # 3. Get the gradients\n",
    "    grads = []\n",
    "    for i, x_data in enumerate(interpolated_inputs):\n",
    "        grad = get_gradients(model,x_data, top_pred_idx=top_pred_idx).cpu().numpy()     \n",
    "        grads.append(grad)\n",
    "    grads = np.asarray(grads)\n",
    "\n",
    "    # 4. Approximate the integral using the trapezoidal rule\n",
    "    grads = (grads[:-1] + grads[1:]) / 2.0\n",
    "    avg_grads = torch.mean(torch.from_numpy(grads).to(device), dim=0)\n",
    "    # 5. Calculate integrated gradients and return\n",
    "    integrated_grads = (inputs - baseline) * avg_grads\n",
    "    return integrated_grads"
   ]
  },
  {
   "cell_type": "code",
   "execution_count": 11,
   "id": "ef724a7d-759a-4d3a-9d0f-9adf875a0960",
   "metadata": {},
   "outputs": [
    {
     "name": "stdout",
     "output_type": "stream",
     "text": [
      "device available : True\n",
      "device count:  1\n",
      "current device:  0\n",
      "device name:  NVIDIA A100-PCIE-40GB\n",
      "NVIDIA A100-PCIE-40GB\n",
      "Memory Usage:\n",
      "Allocated: 0.1 GB\n",
      "Cached:    3.2 GB\n",
      "using device:  cuda\n"
     ]
    }
   ],
   "source": [
    "def set_gpu(gpu_id):\n",
    "    os.environ[\"CUDA_DEVICE_ORDER\"] = \"PCI_BUS_ID\"\n",
    "    os.environ[\"CUDA_VISIBLE_DEVICES\"] = str(gpu_id)\n",
    "gpu_id=0\n",
    "\n",
    "if gpu_id >= 0:\n",
    "    device = \"cuda\"\n",
    "    set_gpu(gpu_id)\n",
    "    print('device available :', torch.cuda.is_available())\n",
    "    print('device count: ', torch.cuda.device_count())\n",
    "    print('current device: ',torch.cuda.current_device())\n",
    "    print('device name: ',torch.cuda.get_device_name())\n",
    "    device = torch.device('cuda' if torch.cuda.is_available() else 'cpu')\n",
    "else:\n",
    "    device = torch.device('cpu')\n",
    "\n",
    "#Additional Info when using cuda\n",
    "if device.type == 'cuda':\n",
    "    print(torch.cuda.get_device_name(0))\n",
    "    print('Memory Usage:')\n",
    "    print('Allocated:', round(torch.cuda.memory_allocated(0)/1024**3,1), 'GB')\n",
    "    print('Cached:   ', round(torch.cuda.memory_reserved(0)/1024**3,1), 'GB')\n",
    "\n",
    "print('using device: ', device)"
   ]
  },
  {
   "cell_type": "code",
   "execution_count": 28,
   "id": "55a17097-90e1-44cb-b32f-830e895b79c9",
   "metadata": {},
   "outputs": [],
   "source": [
    "PATH = 'saved_models/benchmark/model003.pt'\n",
    "model = torch.load(PATH).to(device)\n",
    "# model.eval()"
   ]
  },
  {
   "cell_type": "code",
   "execution_count": 29,
   "id": "3947a672-5dc2-49e7-9dfc-a95789ecf89c",
   "metadata": {},
   "outputs": [],
   "source": [
    "dir_fil = '/glade/work/wchapman/ViT_XAI/Data_Staging/Mamalakis_Dataset/scp_synth_exm_data.nc'\n",
    "Data_ = xr.open_dataset(dir_fil)\n",
    "Data_train = np.expand_dims(Data_['SSTrand'].isel(time=slice(0,900000)),1)\n",
    "Y_train = np.array(Data_['y'].isel(time=slice(0,900000)))\n",
    "\n",
    "Data_val = np.expand_dims(Data_['SSTrand'].isel(time=slice(950000,1000000)),1)\n",
    "Y_val = np.array(Data_['y'].isel(time=slice(950000,1000000)))\n",
    "\n",
    "Data_test = np.expand_dims(Data_['SSTrand'].isel(time=slice(900000,950000)),1)\n",
    "Y_test = np.array(Data_['y'].isel(time=slice(900000,950000)))"
   ]
  },
  {
   "cell_type": "code",
   "execution_count": 30,
   "id": "3872d6ba-5f1f-41ed-98c4-b812b80fd8ff",
   "metadata": {},
   "outputs": [],
   "source": [
    "sample = torch.nan_to_num(torch.tensor(Data_val[29475], dtype=torch.float32, requires_grad=True)).to(device)"
   ]
  },
  {
   "cell_type": "code",
   "execution_count": 31,
   "id": "627ef9e2-4852-4fa5-a2eb-f3d139bf230f",
   "metadata": {},
   "outputs": [],
   "source": [
    "Grad_heatmap = get_gradients(model,sample.unsqueeze(0)).cpu().numpy()\n",
    "GtI_heatmap = np.multiply(Grad_heatmap,sample.unsqueeze(0).cpu().detach().numpy())\n",
    "IntegratedGrad_zeros_heatmap=get_integrated_gradients(sample.unsqueeze(0)).cpu().detach().numpy()"
   ]
  },
  {
   "cell_type": "code",
   "execution_count": 32,
   "id": "234f4d54-9971-4af7-a40c-686aa6d9a020",
   "metadata": {},
   "outputs": [
    {
     "data": {
      "text/plain": [
       "<matplotlib.image.AxesImage at 0x14caec7a9a10>"
      ]
     },
     "execution_count": 32,
     "metadata": {},
     "output_type": "execute_result"
    },
    {
     "data": {
      "image/png": "[encoded data removed]",
      "text/plain": [
       "<Figure size 640x480 with 1 Axes>"
      ]
     },
     "metadata": {},
     "output_type": "display_data"
    }
   ],
   "source": [
    "plt.imshow(IntegratedGrad_zeros_heatmap.squeeze(),origin='lower',cmap='RdBu',vmin=-0.01,vmax=0.01)"
   ]
  },
  {
   "cell_type": "code",
   "execution_count": 33,
   "id": "082d5f7e-303f-4393-8e59-6e89e0e931b7",
   "metadata": {},
   "outputs": [
    {
     "data": {
      "text/plain": [
       "<matplotlib.image.AxesImage at 0x14caec807f90>"
      ]
     },
     "execution_count": 33,
     "metadata": {},
     "output_type": "execute_result"
    },
    {
     "data": {
      "image/png": "[encoded data removed]",
      "text/plain": [
       "<Figure size 640x480 with 1 Axes>"
      ]
     },
     "metadata": {},
     "output_type": "display_data"
    }
   ],
   "source": [
    "plt.imshow(GtI_heatmap.squeeze(),origin='lower',cmap='RdBu',vmin=-0.01,vmax=0.01)"
   ]
  },
  {
   "cell_type": "code",
   "execution_count": 34,
   "id": "305ad6af-d7ab-4775-8240-9d8eb17e1600",
   "metadata": {},
   "outputs": [
    {
     "data": {
      "text/plain": [
       "<matplotlib.image.AxesImage at 0x14caec61d2d0>"
      ]
     },
     "execution_count": 34,
     "metadata": {},
     "output_type": "execute_result"
    },
    {
     "data": {
      "image/png": "[encoded data removed]",
      "text/plain": [
       "<Figure size 640x480 with 1 Axes>"
      ]
     },
     "metadata": {},
     "output_type": "display_data"
    }
   ],
   "source": [
    "plt.imshow(Grad_heatmap.squeeze(),origin='lower')"
   ]
  },
  {
   "cell_type": "code",
   "execution_count": null,
   "id": "960052c3-46af-452c-9b7f-5dc70c771f62",
   "metadata": {},
   "outputs": [],
   "source": []
  }
 ],
 "metadata": {
  "kernelspec": {
   "display_name": "MLWPS",
   "language": "python",
   "name": "mlwps"
  },
  "language_info": {
   "codemirror_mode": {
    "name": "ipython",
    "version": 3
   },
   "file_extension": ".py",
   "mimetype": "text/x-python",
   "name": "python",
   "nbconvert_exporter": "python",
   "pygments_lexer": "ipython3",
   "version": "3.11.6"
  }
 },
 "nbformat": 4,
 "nbformat_minor": 5
}
