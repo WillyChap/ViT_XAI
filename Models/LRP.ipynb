{
 "cells": [
  {
   "cell_type": "code",
   "execution_count": 1,
   "id": "b03f59d5-43b2-4634-a082-0b4774a12244",
   "metadata": {},
   "outputs": [],
   "source": [
    "import torch\n",
    "import xarray as xr\n",
    "import numpy as np\n",
    "import matplotlib.pyplot as plt\n",
    "import copy\n",
    "import os\n",
    "from baselines.ViT.ViT_explanation_generator import LRP\n",
    "\n",
    "import torch\n",
    "import Simple_ViT.simple_vit_lrp as svitl"
   ]
  },
  {
   "cell_type": "code",
   "execution_count": 2,
   "id": "ebb26f3a-f4fa-4ab4-9340-4beb4a2af7ba",
   "metadata": {},
   "outputs": [],
   "source": [
    "class LRP2:\n",
    "    def __init__(self, model):\n",
    "        self.model = model\n",
    "        self.model.eval()\n",
    "\n",
    "    def generate_LRP(self, input, index=None, method=\"transformer_attribution\", is_ablation=False, start_layer=0):\n",
    "        output = self.model(input)\n",
    "        print(output)\n",
    "        print(output.shape)\n",
    "        kwargs = {\"alpha\": 1}\n",
    "        if index == None:\n",
    "            index = np.argmax(output.cpu().data.numpy(), axis=-1)\n",
    "\n",
    "        one_hot = np.zeros((1, output.size()[-1]), dtype=np.float32)\n",
    "        one_hot[0, index] = 1\n",
    "        print(one_hot)\n",
    "        one_hot_vector = one_hot\n",
    "        one_hot = torch.from_numpy(one_hot).requires_grad_(True)\n",
    "        one_hot = torch.sum(one_hot.cuda() * output)\n",
    "\n",
    "        self.model.zero_grad()\n",
    "        one_hot.backward(retain_graph=True)\n",
    "\n",
    "        return self.model.relprop(torch.tensor(one_hot_vector).to(input.device), method=method, is_ablation=is_ablation,\n",
    "                                  start_layer=start_layer, **kwargs)\n"
   ]
  },
  {
   "cell_type": "code",
   "execution_count": 3,
   "id": "a0e066c1-1c5f-4901-8039-9d64d258d113",
   "metadata": {},
   "outputs": [
    {
     "name": "stdout",
     "output_type": "stream",
     "text": [
      "device available : True\n",
      "device count:  1\n",
      "current device:  0\n",
      "device name:  NVIDIA A100-SXM4-80GB\n",
      "NVIDIA A100-SXM4-80GB\n",
      "Memory Usage:\n",
      "Allocated: 0.0 GB\n",
      "Cached:    0.0 GB\n",
      "using device:  cuda\n"
     ]
    }
   ],
   "source": [
    "def set_gpu(gpu_id):\n",
    "    os.environ[\"CUDA_DEVICE_ORDER\"] = \"PCI_BUS_ID\"\n",
    "    os.environ[\"CUDA_VISIBLE_DEVICES\"] = str(gpu_id)\n",
    "gpu_id=0\n",
    "\n",
    "if gpu_id >= 0:\n",
    "    device = \"cuda\"\n",
    "    set_gpu(gpu_id)\n",
    "    print('device available :', torch.cuda.is_available())\n",
    "    print('device count: ', torch.cuda.device_count())\n",
    "    print('current device: ',torch.cuda.current_device())\n",
    "    print('device name: ',torch.cuda.get_device_name())\n",
    "    device = torch.device('cuda' if torch.cuda.is_available() else 'cpu')\n",
    "else:\n",
    "    device = torch.device('cpu')\n",
    "\n",
    "#Additional Info when using cuda\n",
    "if device.type == 'cuda':\n",
    "    print(torch.cuda.get_device_name(0))\n",
    "    print('Memory Usage:')\n",
    "    print('Allocated:', round(torch.cuda.memory_allocated(0)/1024**3,1), 'GB')\n",
    "    print('Cached:   ', round(torch.cuda.memory_reserved(0)/1024**3,1), 'GB')\n",
    "\n",
    "print('using device: ', device)"
   ]
  },
  {
   "cell_type": "code",
   "execution_count": 6,
   "id": "35d0f41f-8978-4c58-8335-ca2fe442cad5",
   "metadata": {},
   "outputs": [],
   "source": [
    "PATH = 'saved_models/benchmark/model003.pt'\n",
    "model = torch.load(PATH).to(device)\n",
    "# model.eval()"
   ]
  },
  {
   "cell_type": "code",
   "execution_count": 8,
   "id": "faa30f34-0b49-4ba8-a70b-b48381d5640f",
   "metadata": {},
   "outputs": [],
   "source": [
    "model_test = svitl.VisionTransformer(\n",
    "        image_lr = 36,\n",
    "        image_ud = 18,\n",
    "        patch_size = 1,\n",
    "        num_classes = 1,\n",
    "        in_chans = 1,\n",
    "        embed_dim = 768,\n",
    "        depth = 8,\n",
    "        num_heads = 32,\n",
    "        mlp_ratio = 2.,\n",
    "    ).to(device)"
   ]
  },
  {
   "cell_type": "code",
   "execution_count": 9,
   "id": "a569be19-75d3-4d96-8480-312f80109128",
   "metadata": {},
   "outputs": [],
   "source": [
    "x_test = torch.rand((36,18))"
   ]
  },
  {
   "cell_type": "code",
   "execution_count": 7,
   "id": "301cf43f-0d3c-47ea-a131-cadcc613425a",
   "metadata": {},
   "outputs": [],
   "source": [
    "dir_fil = '/glade/work/wchapman/ViT_XAI/Data_Staging/Mamalakis_Dataset/scp_synth_exm_data.nc'\n",
    "Data_ = xr.open_dataset(dir_fil)\n",
    "Data_train = np.expand_dims(Data_['SSTrand'].isel(time=slice(0,900000)),1)\n",
    "Y_train = np.array(Data_['y'].isel(time=slice(0,900000)))\n",
    "\n",
    "Data_val = np.expand_dims(Data_['SSTrand'].isel(time=slice(950000,1000000)),1)\n",
    "Y_val = np.array(Data_['y'].isel(time=slice(950000,1000000)))\n",
    "\n",
    "Data_test = np.expand_dims(Data_['SSTrand'].isel(time=slice(900000,950000)),1)\n",
    "Y_test = np.array(Data_['y'].isel(time=slice(900000,950000)))"
   ]
  },
  {
   "cell_type": "code",
   "execution_count": 16,
   "id": "85e10ef9-0e00-433d-b8a0-e0f287aa8ceb",
   "metadata": {},
   "outputs": [],
   "source": [
    "x = torch.nan_to_num(torch.tensor(Data_val[29475], dtype=torch.float32))\n",
    "# model(x.unsqueeze(0).to(device))"
   ]
  },
  {
   "cell_type": "code",
   "execution_count": 38,
   "id": "8cd0cbf5-08fc-483c-adee-813f87c4e87d",
   "metadata": {},
   "outputs": [],
   "source": [
    "attribution_generator = LRP(model)\n",
    "transformer_attribution = attribution_generator.generate_LRP(x.unsqueeze(0).to(device), method=\"transformer_attribution\", index=0).detach()"
   ]
  },
  {
   "cell_type": "code",
   "execution_count": 39,
   "id": "1086bae7-2e2b-40c4-8f05-89b7608d7fff",
   "metadata": {},
   "outputs": [],
   "source": [
    "transformer_attribution = transformer_attribution.reshape(1, 1, 18, 9)\n",
    "transformer_attribution = torch.nn.functional.interpolate(transformer_attribution, scale_factor=2, mode='bilinear')\n",
    "transformer_attribution = transformer_attribution.reshape(36, 18).data.cpu().numpy()"
   ]
  },
  {
   "cell_type": "code",
   "execution_count": 25,
   "id": "46583e3c-22d1-43dd-bd53-b1c59059c4d1",
   "metadata": {},
   "outputs": [
    {
     "data": {
      "text/plain": [
       "<matplotlib.image.AxesImage at 0x148951c4c090>"
      ]
     },
     "execution_count": 25,
     "metadata": {},
     "output_type": "execute_result"
    },
    {
     "data": {
      "image/png": "[encoded data removed]",
      "text/plain": [
       "<Figure size 640x480 with 1 Axes>"
      ]
     },
     "metadata": {},
     "output_type": "display_data"
    }
   ],
   "source": [
    "plt.imshow(x.squeeze().cpu())"
   ]
  },
  {
   "cell_type": "code",
   "execution_count": 40,
   "id": "3fc5a414-a912-4f9b-8f53-408961513e4a",
   "metadata": {},
   "outputs": [
    {
     "data": {
      "image/png": "[encoded data removed]",
      "text/plain": [
       "<Figure size 640x480 with 2 Axes>"
      ]
     },
     "metadata": {},
     "output_type": "display_data"
    },
    {
     "data": {
      "image/png": "[encoded data removed]",
      "text/plain": [
       "<Figure size 640x480 with 2 Axes>"
      ]
     },
     "metadata": {},
     "output_type": "display_data"
    }
   ],
   "source": [
    "plt.pcolormesh(transformer_attribution.squeeze(),cmap='Reds', vmin=0, vmax=2*1e-5)\n",
    "plt.colorbar()\n",
    "plt.show()\n",
    "\n",
    "plt.pcolormesh(x.squeeze().cpu())\n",
    "plt.colorbar()\n",
    "plt.show()"
   ]
  },
  {
   "cell_type": "code",
   "execution_count": null,
   "id": "4d75c75a-dab5-43f9-97a3-d4d252e59ae3",
   "metadata": {},
   "outputs": [],
   "source": []
  },
  {
   "cell_type": "code",
   "execution_count": null,
   "id": "2d9bbf96-5347-4539-95df-32799c08aa00",
   "metadata": {},
   "outputs": [],
   "source": [
    "def generate_visualization(original_image, class_index=None):\n",
    "    transformer_attribution = attribution_generator.generate_LRP(original_image.unsqueeze(0).cuda(), method=\"transformer_attribution\", index=class_index).detach()\n",
    "    transformer_attribution = transformer_attribution.reshape(1, 1, 36, 18)\n",
    "    # transformer_attribution = torch.nn.functional.interpolate(transformer_attribution, scale_factor=16, mode='bilinear')\n",
    "    # transformer_attribution = transformer_attribution.reshape(224, 224).data.cpu().numpy()\n",
    "    transformer_attribution = (transformer_attribution - transformer_attribution.min()) / (transformer_attribution.max() - transformer_attribution.min())\n",
    "\n",
    "    if use_thresholding:\n",
    "      transformer_attribution = transformer_attribution * 255\n",
    "      transformer_attribution = transformer_attribution.astype(np.uint8)\n",
    "      ret, transformer_attribution = cv2.threshold(transformer_attribution, 0, 255, cv2.THRESH_BINARY + cv2.THRESH_OTSU)\n",
    "      transformer_attribution[transformer_attribution == 255] = 1\n",
    "\n",
    "    image_transformer_attribution = original_image.permute(1, 2, 0).data.cpu().numpy()\n",
    "    image_transformer_attribution = (image_transformer_attribution - image_transformer_attribution.min()) / (image_transformer_attribution.max() - image_transformer_attribution.min())\n",
    "    vis = show_cam_on_image(image_transformer_attribution, transformer_attribution)\n",
    "    vis =  np.uint8(255 * vis)\n",
    "    vis = cv2.cvtColor(np.array(vis), cv2.COLOR_RGB2BGR)\n",
    "    return vis\n",
    "\n",
    "def print_top_classes(predictions, **kwargs):    \n",
    "    # Print Top-5 predictions\n",
    "    prob = torch.softmax(predictions, dim=1)\n",
    "    class_indices = predictions.data.topk(5, dim=1)[1][0].tolist()\n",
    "    max_str_len = 0\n",
    "    class_names = []\n",
    "    for cls_idx in class_indices:\n",
    "        class_names.append(CLS2IDX[cls_idx])\n",
    "        if len(CLS2IDX[cls_idx]) > max_str_len:\n",
    "            max_str_len = len(CLS2IDX[cls_idx])\n",
    "    \n",
    "    print('Top 5 classes:')\n",
    "    for cls_idx in class_indices:\n",
    "        output_string = '\\t{} : {}'.format(cls_idx, CLS2IDX[cls_idx])\n",
    "        output_string += ' ' * (max_str_len - len(CLS2IDX[cls_idx])) + '\\t\\t'\n",
    "        output_string += 'value = {:.3f}\\t prob = {:.1f}%'.format(predictions[0, cls_idx], 100 * prob[0, cls_idx])\n",
    "        print(output_string)"
   ]
  },
  {
   "cell_type": "code",
   "execution_count": null,
   "id": "f8da6be2-699b-4260-843b-a0a3f3c34d84",
   "metadata": {},
   "outputs": [],
   "source": [
    "generate_visualization(x)"
   ]
  }
 ],
 "metadata": {
  "kernelspec": {
   "display_name": "Python (MLWPS)",
   "language": "python",
   "name": "mlwps"
  },
  "language_info": {
   "codemirror_mode": {
    "name": "ipython",
    "version": 3
   },
   "file_extension": ".py",
   "mimetype": "text/x-python",
   "name": "python",
   "nbconvert_exporter": "python",
   "pygments_lexer": "ipython3",
   "version": "3.11.6"
  }
 },
 "nbformat": 4,
 "nbformat_minor": 5
}
