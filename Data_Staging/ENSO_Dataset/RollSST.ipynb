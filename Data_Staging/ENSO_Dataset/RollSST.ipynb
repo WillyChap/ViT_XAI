{
 "cells": [
  {
   "cell_type": "code",
   "execution_count": 1,
   "id": "5cf24f6f-e470-43cb-99b6-50a6fd949315",
   "metadata": {},
   "outputs": [
    {
     "name": "stdout",
     "output_type": "stream",
     "text": [
      "Directory /glade/derecho/scratch/kjmayer/TOMSensoDS/ already exists.\n"
     ]
    }
   ],
   "source": [
    "import xarray as xr \n",
    "import numpy as np \n",
    "import os\n",
    "\n",
    "myname = 'kjmayer'\n",
    "dirout = f'/glade/derecho/scratch/{myname}/TOMSensoDS/'\n",
    "# Check if the directory exists\n",
    "if not os.path.exists(dirout):\n",
    "    # Create the directory\n",
    "    os.makedirs(dirout)\n",
    "    print(f\"Directory {dirout} created.\")\n",
    "else:\n",
    "    print(f\"Directory {dirout} already exists.\")\n",
    "\n",
    "DSmean_sst_anom = xr.open_dataset(os.path.join(dirout, 'SST_CESM2_PI_Chunked.nc'))"
   ]
  },
  {
   "cell_type": "code",
   "execution_count": 2,
   "id": "af76f4f7-42bb-4e49-865e-2453456545e8",
   "metadata": {},
   "outputs": [
    {
     "name": "stdout",
     "output_type": "stream",
     "text": [
      "...done rolling SST...\n",
      "...done saving SST...\n"
     ]
    }
   ],
   "source": [
    "DSmean_sst_anom_rolled = DSmean_sst_anom.rolling(time=30, min_periods=1, center=True).mean()\n",
    "print('...done rolling SST...')\n",
    "DSmean_sst_anom_rolled.to_netcdf(os.path.join(dirout, 'SST_CESM2_PI_Chunked_Rolled.nc'))\n",
    "print('...done saving SST...')"
   ]
  },
  {
   "cell_type": "code",
   "execution_count": null,
   "id": "e6e65948-9bb2-41e1-ad44-b21b1371c8f7",
   "metadata": {},
   "outputs": [],
   "source": []
  }
 ],
 "metadata": {
  "kernelspec": {
   "display_name": "MLWPS",
   "language": "python",
   "name": "mlwps"
  },
  "language_info": {
   "codemirror_mode": {
    "name": "ipython",
    "version": 3
   },
   "file_extension": ".py",
   "mimetype": "text/x-python",
   "name": "python",
   "nbconvert_exporter": "python",
   "pygments_lexer": "ipython3",
   "version": "3.11.6"
  }
 },
 "nbformat": 4,
 "nbformat_minor": 5
}
