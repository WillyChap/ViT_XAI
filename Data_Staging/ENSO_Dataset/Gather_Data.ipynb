{
 "cells": [
  {
   "cell_type": "markdown",
   "id": "c097e949-a3a9-4540-b74a-92546573f5d3",
   "metadata": {},
   "source": [
    "## Imports"
   ]
  },
  {
   "cell_type": "code",
   "execution_count": 3,
   "id": "bf1af360-2bf1-4aae-992d-80aeb6b26b27",
   "metadata": {},
   "outputs": [],
   "source": [
    "import xarray as xr \n",
    "import numpy as np \n",
    "import numpy.ma as ma\n",
    "import glob\n",
    "\n",
    "import matplotlib.pyplot as plt\n",
    "import pandas as pd\n",
    "import os \n",
    "import copy\n",
    "from scipy import signal\n",
    "\n",
    "import matplotlib.pyplot as plt\n",
    "import matplotlib as mpl\n",
    "#import collections\n",
    "import matplotlib.ticker as mticker\n",
    "from matplotlib import ticker\n",
    "from cartopy.mpl.gridliner import LONGITUDE_FORMATTER, LATITUDE_FORMATTER\n",
    "import cartopy.crs as ccrs\n",
    "import cartopy as cart\n",
    "import cartopy.mpl.ticker as cticker\n",
    "import cartopy.feature as cfeature\n",
    "from matplotlib.colors import ListedColormap\n",
    "from cartopy.mpl.gridliner import LONGITUDE_FORMATTER, LATITUDE_FORMATTER\n",
    "from cartopy.mpl.ticker import LongitudeFormatter, LatitudeFormatter\n",
    "import cmocean\n",
    "import scipy as sp\n",
    "import warnings\n",
    "warnings.filterwarnings(\"ignore\")\n",
    "import os\n",
    "import eofs.standard as Eof_st\n",
    "from eofs.multivariate.standard import MultivariateEof\n",
    "from eofs.xarray import Eof\n",
    "from scipy.signal import butter, lfilter\n",
    "from scipy.signal import convolve\n",
    "import importlib\n",
    "def reimport_module(module_name):\n",
    "    \"\"\"\n",
    "    Reimports the specified Python module.\n",
    "    \n",
    "    Args:\n",
    "    module_name (module): The module to be reimported, typically passed as a variable.\n",
    "    \n",
    "    Returns:\n",
    "    module: The reloaded module.\n",
    "    \"\"\"\n",
    "    try:\n",
    "        # Reload the already imported module\n",
    "        reloaded_module = importlib.reload(module_name)\n",
    "        print(f\"Module {module_name.__name__} reloaded successfully.\")\n",
    "        return reloaded_module\n",
    "    except Exception as e:\n",
    "        print(f\"Failed to reload module: {e}\")\n",
    "import getpass\n",
    "myname = getpass.getuser()"
   ]
  },
  {
   "cell_type": "markdown",
   "id": "b9c30181-9695-4eff-9ec7-c4e3fa64b170",
   "metadata": {},
   "source": [
    "## Dask Baby"
   ]
  },
  {
   "cell_type": "code",
   "execution_count": 7,
   "id": "af297d12-9287-4f04-bb51-b13fe0372151",
   "metadata": {},
   "outputs": [
    {
     "data": {
      "text/html": [
       "<div>\n",
       "    <div style=\"width: 24px; height: 24px; background-color: #e1e1e1; border: 3px solid #9D9D9D; border-radius: 5px; position: absolute;\"> </div>\n",
       "    <div style=\"margin-left: 48px;\">\n",
       "        <h3 style=\"margin-bottom: 0px;\">Client</h3>\n",
       "        <p style=\"color: #9D9D9D; margin-bottom: 0px;\">Client-e00fa0bd-17b1-11ef-a436-3cecef1ac968</p>\n",
       "        <table style=\"width: 100%; text-align: left;\">\n",
       "\n",
       "        <tr>\n",
       "        \n",
       "            <td style=\"text-align: left;\"><strong>Connection method:</strong> Cluster object</td>\n",
       "            <td style=\"text-align: left;\"><strong>Cluster type:</strong> dask_jobqueue.PBSCluster</td>\n",
       "        \n",
       "        </tr>\n",
       "\n",
       "        \n",
       "            <tr>\n",
       "                <td style=\"text-align: left;\">\n",
       "                    <strong>Dashboard: </strong> <a href=\"https://jupyterhub.hpc.ucar.edu/stable/user/wchapman/diehard/proxy/8787/status\" target=\"_blank\">https://jupyterhub.hpc.ucar.edu/stable/user/wchapman/diehard/proxy/8787/status</a>\n",
       "                </td>\n",
       "                <td style=\"text-align: left;\"></td>\n",
       "            </tr>\n",
       "        \n",
       "\n",
       "        </table>\n",
       "\n",
       "        \n",
       "            <details>\n",
       "            <summary style=\"margin-bottom: 20px;\"><h3 style=\"display: inline;\">Cluster Info</h3></summary>\n",
       "            <div class=\"jp-RenderedHTMLCommon jp-RenderedHTML jp-mod-trusted jp-OutputArea-output\">\n",
       "    <div style=\"width: 24px; height: 24px; background-color: #e1e1e1; border: 3px solid #9D9D9D; border-radius: 5px; position: absolute;\">\n",
       "    </div>\n",
       "    <div style=\"margin-left: 48px;\">\n",
       "        <h3 style=\"margin-bottom: 0px; margin-top: 0px;\">PBSCluster</h3>\n",
       "        <p style=\"color: #9D9D9D; margin-bottom: 0px;\">fe489a55</p>\n",
       "        <table style=\"width: 100%; text-align: left;\">\n",
       "            <tr>\n",
       "                <td style=\"text-align: left;\">\n",
       "                    <strong>Dashboard:</strong> <a href=\"https://jupyterhub.hpc.ucar.edu/stable/user/wchapman/diehard/proxy/8787/status\" target=\"_blank\">https://jupyterhub.hpc.ucar.edu/stable/user/wchapman/diehard/proxy/8787/status</a>\n",
       "                </td>\n",
       "                <td style=\"text-align: left;\">\n",
       "                    <strong>Workers:</strong> 0\n",
       "                </td>\n",
       "            </tr>\n",
       "            <tr>\n",
       "                <td style=\"text-align: left;\">\n",
       "                    <strong>Total threads:</strong> 0\n",
       "                </td>\n",
       "                <td style=\"text-align: left;\">\n",
       "                    <strong>Total memory:</strong> 0 B\n",
       "                </td>\n",
       "            </tr>\n",
       "            \n",
       "        </table>\n",
       "\n",
       "        <details>\n",
       "            <summary style=\"margin-bottom: 20px;\">\n",
       "                <h3 style=\"display: inline;\">Scheduler Info</h3>\n",
       "            </summary>\n",
       "\n",
       "            <div style=\"\">\n",
       "    <div>\n",
       "        <div style=\"width: 24px; height: 24px; background-color: #FFF7E5; border: 3px solid #FF6132; border-radius: 5px; position: absolute;\"> </div>\n",
       "        <div style=\"margin-left: 48px;\">\n",
       "            <h3 style=\"margin-bottom: 0px;\">Scheduler</h3>\n",
       "            <p style=\"color: #9D9D9D; margin-bottom: 0px;\">Scheduler-c4352ec4-5e4f-411f-b485-89453a3ab829</p>\n",
       "            <table style=\"width: 100%; text-align: left;\">\n",
       "                <tr>\n",
       "                    <td style=\"text-align: left;\">\n",
       "                        <strong>Comm:</strong> tcp://128.117.208.110:34919\n",
       "                    </td>\n",
       "                    <td style=\"text-align: left;\">\n",
       "                        <strong>Workers:</strong> 0\n",
       "                    </td>\n",
       "                </tr>\n",
       "                <tr>\n",
       "                    <td style=\"text-align: left;\">\n",
       "                        <strong>Dashboard:</strong> <a href=\"https://jupyterhub.hpc.ucar.edu/stable/user/wchapman/diehard/proxy/8787/status\" target=\"_blank\">https://jupyterhub.hpc.ucar.edu/stable/user/wchapman/diehard/proxy/8787/status</a>\n",
       "                    </td>\n",
       "                    <td style=\"text-align: left;\">\n",
       "                        <strong>Total threads:</strong> 0\n",
       "                    </td>\n",
       "                </tr>\n",
       "                <tr>\n",
       "                    <td style=\"text-align: left;\">\n",
       "                        <strong>Started:</strong> Just now\n",
       "                    </td>\n",
       "                    <td style=\"text-align: left;\">\n",
       "                        <strong>Total memory:</strong> 0 B\n",
       "                    </td>\n",
       "                </tr>\n",
       "            </table>\n",
       "        </div>\n",
       "    </div>\n",
       "\n",
       "    <details style=\"margin-left: 48px;\">\n",
       "        <summary style=\"margin-bottom: 20px;\">\n",
       "            <h3 style=\"display: inline;\">Workers</h3>\n",
       "        </summary>\n",
       "\n",
       "        \n",
       "\n",
       "    </details>\n",
       "</div>\n",
       "\n",
       "        </details>\n",
       "    </div>\n",
       "</div>\n",
       "            </details>\n",
       "        \n",
       "\n",
       "    </div>\n",
       "</div>"
      ],
      "text/plain": [
       "<Client: 'tcp://128.117.208.110:34919' processes=0 threads=0, memory=0 B>"
      ]
     },
     "execution_count": 7,
     "metadata": {},
     "output_type": "execute_result"
    }
   ],
   "source": [
    "# ### ++++++ dask NCAR client: \n",
    "from distributed import Client\n",
    "from dask_jobqueue import PBSCluster\n",
    "project_num = 'P03010039' #what project key do you have? \n",
    "\n",
    "cluster = PBSCluster(account=project_num,walltime='12:00:00',cores=1, memory='40GB',shared_temp_directory='/glade/derecho/scratch/wchapman/tmp',queue='casper')\n",
    "cluster.scale(jobs=40)\n",
    "client = Client(cluster)\n",
    "client"
   ]
  },
  {
   "cell_type": "markdown",
   "id": "5cd5a25b-2991-4a24-9a75-4b9cc6627966",
   "metadata": {},
   "source": [
    "## Get File Paths"
   ]
  },
  {
   "cell_type": "code",
   "execution_count": 121,
   "id": "412049f3-9d67-47c7-b18a-bc5f338ccec3",
   "metadata": {},
   "outputs": [],
   "source": [
    "path2cesmPI = '/glade/campaign/cesm/development/cvcwg/cvwg/f.e21.F1850.f09_f09_mg17.DAILYSSTIC_CMIP6-piControl.001/atm/proc/tseries/day_1/'\n",
    "SSTwc = '*.SST.*nc'\n",
    "SSTfiles = sorted(glob.glob(os.path.join(path2cesmPI, SSTwc)))\n",
    "TREFHTwc = '*.TREFHT.*nc'\n",
    "TREFHTfiles = sorted(glob.glob(os.path.join(path2cesmPI, TREFHTwc)))"
   ]
  },
  {
   "cell_type": "markdown",
   "id": "a814e7b5-2e9e-4558-af97-b79813181b3f",
   "metadata": {},
   "source": [
    "## Open Data"
   ]
  },
  {
   "cell_type": "code",
   "execution_count": 162,
   "id": "ae4defbd-86ae-40f8-9346-428d3a016869",
   "metadata": {},
   "outputs": [],
   "source": [
    "DSsst = xr.open_mfdataset(SSTfiles, parallel=True)\n",
    "DStrefht = xr.open_mfdataset(TREFHTfiles, parallel=True).sel(lat=slice(25,65),lon=slice(200,250))"
   ]
  },
  {
   "cell_type": "markdown",
   "id": "bc860922-e451-4cb7-a8bf-5768ca18bfe2",
   "metadata": {},
   "source": [
    "## Fix The Dates Cause CESM is a Nightmare"
   ]
  },
  {
   "cell_type": "code",
   "execution_count": 163,
   "id": "33787dcc-b8ad-4f06-b50d-1d31754708dd",
   "metadata": {},
   "outputs": [],
   "source": [
    "# Create the date range\n",
    "date_range = pd.date_range(start='1700-01-01', end='2200-01-01')\n",
    "\n",
    "# Filter out February 29th\n",
    "filtered_date_range = date_range[~((date_range.month == 2) & (date_range.day == 29))]\n",
    "\n",
    "# Display the filtered date range\n",
    "filtered_date_range\n",
    "\n",
    "DSsst['time'] = filtered_date_range\n",
    "DSsst = DSsst['SST'].to_dataset(name='SST')\n",
    "DStrefht['time'] = filtered_date_range\n",
    "DStrefht = DStrefht['TREFHT'].to_dataset(name='TREFHT')"
   ]
  },
  {
   "cell_type": "markdown",
   "id": "6a7685a8-35c0-4fad-a695-0ae13304fa72",
   "metadata": {},
   "source": [
    "## Do a 60 day rolling mean:"
   ]
  },
  {
   "cell_type": "code",
   "execution_count": 164,
   "id": "dad3c9a0-36bf-4019-ab84-31595536bd68",
   "metadata": {},
   "outputs": [],
   "source": [
    "#SST: \n",
    "DSmean_sst = DSsst.sel(time=slice('1700','2000')).mean('time').persist() #training data\n",
    "DSmean_sst_anom = (DSsst-DSmean_sst).persist()\n",
    "\n",
    "#TREFTHT: \n",
    "DSmean_trefht = DStrefht.sel(time=slice('1700','2000')).mean('time').persist() #training data\n",
    "DStrefht = DStrefht['TREFHT'].to_dataset(name='TREHT')\n",
    "DSmean_trefht_anom = (DStrefht-DSmean_trefht).drop(['time']).persist()\n",
    "DSmean_trefht_anom_roll = DStrefht.rolling(time=60, min_periods=1).mean()"
   ]
  },
  {
   "cell_type": "markdown",
   "id": "8bdb2d9f-407d-40cb-9050-5739f94f3005",
   "metadata": {},
   "source": [
    "## Files out"
   ]
  },
  {
   "cell_type": "code",
   "execution_count": 165,
   "id": "6d123c49-d61b-4915-858e-588f92b30c22",
   "metadata": {},
   "outputs": [
    {
     "name": "stdout",
     "output_type": "stream",
     "text": [
      "Directory /glade/derecho/scratch/wchapman/TOMSensoDS/ already exists.\n",
      "...done saving TREFHT...\n"
     ]
    }
   ],
   "source": [
    "dirout = f'/glade/derecho/scratch/{myname}/TOMSensoDS/'\n",
    "\n",
    "# Check if the directory exists\n",
    "if not os.path.exists(dirout):\n",
    "    # Create the directory\n",
    "    os.makedirs(dirout)\n",
    "    print(f\"Directory {dirout} created.\")\n",
    "else:\n",
    "    print(f\"Directory {dirout} already exists.\")\n",
    "\n",
    "DSmean_sst_anom.to_netcdf(os.path.join(dirout, 'SST_CESM2_PI.nc'))\n",
    "print('...done saving SST...')\n",
    "\n",
    "DSmean_trefht_anom_roll.to_netcdf(os.path.join(dirout, 'TREFHT_CESM2_PI.nc'))\n",
    "print('...done saving TREFHT...')"
   ]
  },
  {
   "cell_type": "code",
   "execution_count": 168,
   "id": "13325207-ee93-41c7-a6c2-eb0839cffd5c",
   "metadata": {},
   "outputs": [
    {
     "name": "stdout",
     "output_type": "stream",
     "text": [
      "...shutting down dask client...\n",
      "...shutdown client...\n"
     ]
    }
   ],
   "source": [
    "print('...shutting down dask client...')\n",
    "if 'client' in locals():\n",
    "    client.shutdown()\n",
    "    print('...shutdown client...')\n",
    "else:\n",
    "    print('client does not exist yet')"
   ]
  },
  {
   "cell_type": "code",
   "execution_count": 169,
   "id": "4c26d8af-e226-428f-aa49-6c66cd87996e",
   "metadata": {},
   "outputs": [
    {
     "name": "stdout",
     "output_type": "stream",
     "text": [
      "rm: cannot remove 'dask-worker*': No such file or directory\n"
     ]
    }
   ],
   "source": [
    "rm dask-worker*"
   ]
  },
  {
   "cell_type": "code",
   "execution_count": null,
   "id": "d5a423a4-f355-4b96-8454-aae23a0bec6c",
   "metadata": {},
   "outputs": [],
   "source": [
    "# Chunking files:\n",
    "# DSmean_sst_anom = xr.open_dataset(os.path.join(dirout, 'SST_CESM2_PI.nc'))\n",
    "# DSmean_trefht_anom_roll = xr.open_dataset(os.path.join(dirout, 'TREFHT_CESM2_PI.nc'))\n",
    "\n",
    "# chunk_sizes = {'SST': {'time': 64, 'lat': 192, 'lon': 288},'TREHT':{'time': 64, 'lat': 42, 'lon': 41}}\n",
    "# DSmean_sst_anom.SST.chunk(chunk_sizes['SST'])\n",
    "# DSmean_trefht_anom_roll.TREHT.chunk(chunk_sizes['TREHT'])\n",
    "\n",
    "# DSmean_sst_anom.to_netcdf(dirout+\"SST_CESM2_PI_Chunked.nc\", \n",
    "#                           encoding={'SST': {'chunksizes': [chunk_sizes['SST']['time'],\n",
    "#                                                            chunk_sizes['SST']['lat'],\n",
    "#                                                            chunk_sizes['SST']['lon']]}})\n",
    "\n",
    "# DSmean_trefht_anom_roll.to_netcdf(dirout+\"TREFHT_CESM2_PI_Chunked.nc\", \n",
    "#                                   encoding={'TREHT': {'chunksizes': [chunk_sizes['TREHT']['time'],\n",
    "#                                                                    chunk_sizes['TREHT']['lat'],\n",
    "#                                                                    chunk_sizes['TREHT']['lon']]}})"
   ]
  },
  {
   "cell_type": "code",
   "execution_count": null,
   "id": "85578414-06c3-49dc-9310-6853caa080d1",
   "metadata": {},
   "outputs": [],
   "source": []
  },
  {
   "cell_type": "code",
   "execution_count": null,
   "id": "8f659a84-b28d-4ea0-a9e4-cc80fb7cfd5a",
   "metadata": {},
   "outputs": [],
   "source": []
  },
  {
   "cell_type": "code",
   "execution_count": null,
   "id": "c57f0a1e-984d-4333-ab0e-3dd9a810f1df",
   "metadata": {},
   "outputs": [],
   "source": []
  },
  {
   "cell_type": "code",
   "execution_count": null,
   "id": "36d8f6f6-e245-4087-ae9d-0183a414840e",
   "metadata": {},
   "outputs": [],
   "source": []
  },
  {
   "cell_type": "code",
   "execution_count": null,
   "id": "37587f1f-95d0-4af7-8fb3-568cdf687d44",
   "metadata": {},
   "outputs": [],
   "source": []
  }
 ],
 "metadata": {
  "kernelspec": {
   "display_name": "NPL 2023a",
   "language": "python",
   "name": "npl-2023a"
  },
  "language_info": {
   "codemirror_mode": {
    "name": "ipython",
    "version": 3
   },
   "file_extension": ".py",
   "mimetype": "text/x-python",
   "name": "python",
   "nbconvert_exporter": "python",
   "pygments_lexer": "ipython3",
   "version": "3.9.16"
  }
 },
 "nbformat": 4,
 "nbformat_minor": 5
}
